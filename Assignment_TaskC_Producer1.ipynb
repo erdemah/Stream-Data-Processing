{
 "cells": [
  {
   "cell_type": "code",
   "execution_count": 1,
   "metadata": {},
   "outputs": [
    {
     "name": "stdout",
     "output_type": "stream",
     "text": [
      "Publishing records..\n",
      "Message published successfully. Data: {'data': {'relative_humidity': 47.6, 'longitude': 148.04, 'windspeed_knots': 9.1, 'max_wind_speed': 13.0, 'precipitation ': ' 0.12G', 'air_temperature_celcius': 12, 'latitude': -37.367}, 'sender': 'climate', 'datetime': '04:29:20'}\n",
      "Message published successfully. Data: {'data': {'relative_humidity': 60.8, 'longitude': 144.005, 'windspeed_knots': 6.9, 'max_wind_speed': 12.0, 'precipitation ': ' 0.00I', 'air_temperature_celcius': 26, 'latitude': -37.986999999999995}, 'sender': 'climate', 'datetime': '04:29:25'}\n",
      "Message published successfully. Data: {'data': {'relative_humidity': 56.7, 'longitude': 142.7605, 'windspeed_knots': 9.3, 'max_wind_speed': 16.9, 'precipitation ': ' 0.00I', 'air_temperature_celcius': 28, 'latitude': -36.3114}, 'sender': 'climate', 'datetime': '04:29:30'}\n",
      "Message published successfully. Data: {'data': {'relative_humidity': 54.9, 'longitude': 144.17600000000002, 'windspeed_knots': 5.9, 'max_wind_speed': 9.9, 'precipitation ': ' 0.00I', 'air_temperature_celcius': 16, 'latitude': -36.765}, 'sender': 'climate', 'datetime': '04:29:35'}\n",
      "Message published successfully. Data: {'data': {'relative_humidity': 53.4, 'longitude': 143.351, 'windspeed_knots': 9.4, 'max_wind_speed': 25.1, 'precipitation ': ' 0.16G', 'air_temperature_celcius': 17, 'latitude': -37.467}, 'sender': 'climate', 'datetime': '04:29:40'}\n",
      "Message published successfully. Data: {'data': {'relative_humidity': 51.6, 'longitude': 144.877, 'windspeed_knots': 3.4, 'max_wind_speed': 11.1, 'precipitation ': ' 0.05G', 'air_temperature_celcius': 12, 'latitude': -36.498000000000005}, 'sender': 'climate', 'datetime': '04:29:45'}\n",
      "Message published successfully. Data: {'data': {'relative_humidity': 40.4, 'longitude': 148.034, 'windspeed_knots': 19.3, 'max_wind_speed': 26.0, 'precipitation ': ' 0.00G', 'air_temperature_celcius': 11, 'latitude': -37.57}, 'sender': 'climate', 'datetime': '04:29:50'}\n",
      "Message published successfully. Data: {'data': {'relative_humidity': 49.5, 'longitude': 143.428, 'windspeed_knots': 6.0, 'max_wind_speed': 12.0, 'precipitation ': ' 0.00G', 'air_temperature_celcius': 14, 'latitude': -37.858000000000004}, 'sender': 'climate', 'datetime': '04:29:55'}\n",
      "Message published successfully. Data: {'data': {'relative_humidity': 48.3, 'longitude': 143.185, 'windspeed_knots': 11.9, 'max_wind_speed': 22.0, 'precipitation ': ' 0.00I', 'air_temperature_celcius': 28, 'latitude': -36.009}, 'sender': 'climate', 'datetime': '04:30:00'}\n",
      "Message published successfully. Data: {'data': {'relative_humidity': 47.5, 'longitude': 141.0556, 'windspeed_knots': 15.0, 'max_wind_speed': 18.1, 'precipitation ': ' 0.20G', 'air_temperature_celcius': 12, 'latitude': -37.0669}, 'sender': 'climate', 'datetime': '04:30:05'}\n",
      "Message published successfully. Data: {'data': {'relative_humidity': 41.2, 'longitude': 141.151, 'windspeed_knots': 10.0, 'max_wind_speed': 13.0, 'precipitation ': ' 0.02G', 'air_temperature_celcius': 9, 'latitude': -37.227}, 'sender': 'climate', 'datetime': '04:30:10'}\n"
     ]
    },
    {
     "ename": "KeyboardInterrupt",
     "evalue": "",
     "output_type": "error",
     "traceback": [
      "\u001b[0;31m---------------------------------------------------------------------------\u001b[0m",
      "\u001b[0;31mKeyboardInterrupt\u001b[0m                         Traceback (most recent call last)",
      "\u001b[0;32m<ipython-input-1-7389c981979e>\u001b[0m in \u001b[0;36m<module>\u001b[0;34m()\u001b[0m\n\u001b[1;32m     43\u001b[0m             \u001b[0mdata1\u001b[0m \u001b[0;34m=\u001b[0m \u001b[0;34m{\u001b[0m\u001b[0;34m'datetime'\u001b[0m\u001b[0;34m:\u001b[0m \u001b[0mdatetime\u001b[0m\u001b[0;34m,\u001b[0m \u001b[0;34m'data'\u001b[0m \u001b[0;34m:\u001b[0m \u001b[0mrecords\u001b[0m\u001b[0;34m[\u001b[0m\u001b[0mrecord_index\u001b[0m\u001b[0;34m]\u001b[0m\u001b[0;34m,\u001b[0m \u001b[0;34m'sender'\u001b[0m\u001b[0;34m:\u001b[0m\u001b[0;34m'climate'\u001b[0m\u001b[0;34m}\u001b[0m\u001b[0;34m\u001b[0m\u001b[0m\n\u001b[1;32m     44\u001b[0m             \u001b[0mpublish_message\u001b[0m\u001b[0;34m(\u001b[0m\u001b[0mproducer_climate\u001b[0m\u001b[0;34m,\u001b[0m \u001b[0mtopic\u001b[0m\u001b[0;34m,\u001b[0m \u001b[0mdata1\u001b[0m\u001b[0;34m)\u001b[0m\u001b[0;34m\u001b[0m\u001b[0m\n\u001b[0;32m---> 45\u001b[0;31m             \u001b[0msleep\u001b[0m\u001b[0;34m(\u001b[0m\u001b[0;36m5\u001b[0m\u001b[0;34m)\u001b[0m\u001b[0;34m\u001b[0m\u001b[0m\n\u001b[0m",
      "\u001b[0;31mKeyboardInterrupt\u001b[0m: "
     ]
    }
   ],
   "source": [
    "# import statements\n",
    "import pandas as pd\n",
    "from time import sleep\n",
    "from json import dumps\n",
    "from kafka import KafkaProducer\n",
    "import random\n",
    "import datetime as dt\n",
    "\n",
    " \n",
    "def publish_message(producer_instance, topic_name, data):\n",
    "    try:\n",
    "        producer_instance.send(topic_name, value=data)\n",
    "        print('Message published successfully. Data: ' + str(data))\n",
    "    except Exception as ex:\n",
    "        print('Exception in publishing message.')\n",
    "        print(str(ex))\n",
    "        \n",
    "def connect_kafka_producer():\n",
    "    _producer = None\n",
    "    try:\n",
    "        _producer = KafkaProducer(bootstrap_servers=['127.0.0.1:9092'],\n",
    "                                  value_serializer=lambda x: dumps(x).encode('ascii'),\n",
    "                                  api_version=(0, 10))\n",
    "    except Exception as ex:\n",
    "        print('Exception while connecting Kafka.')\n",
    "        print(str(ex))\n",
    "    finally:\n",
    "        return _producer\n",
    "    \n",
    "if __name__ == '__main__':\n",
    "   \n",
    "    topic = 'StopFire'\n",
    "    print('Publishing records..')\n",
    "    producer_climate = connect_kafka_producer()\n",
    "    climate_str = pd.read_csv(\"climate_streaming.csv\")\n",
    "    #creating records from the dataframe\n",
    "    records = climate_str.to_dict(orient = 'records')\n",
    "    records_size = len(records)\n",
    "    while True:\n",
    "        random.shuffle(records)\n",
    "        for record_index in range(records_size):\n",
    "            datetime = str(dt.datetime.now().strftime(\"%X\"))\n",
    "            data1 = {'datetime': datetime, 'data' : records[record_index], 'sender':'climate'}\n",
    "            publish_message(producer_climate, topic, data1)\n",
    "            sleep(5)"
   ]
  },
  {
   "cell_type": "code",
   "execution_count": null,
   "metadata": {},
   "outputs": [],
   "source": []
  }
 ],
 "metadata": {
  "kernelspec": {
   "display_name": "Python 3",
   "language": "python",
   "name": "python3"
  },
  "language_info": {
   "codemirror_mode": {
    "name": "ipython",
    "version": 3
   },
   "file_extension": ".py",
   "mimetype": "text/x-python",
   "name": "python",
   "nbconvert_exporter": "python",
   "pygments_lexer": "ipython3",
   "version": "3.6.7"
  }
 },
 "nbformat": 4,
 "nbformat_minor": 2
}
